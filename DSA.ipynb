{
 "cells": [
  {
   "cell_type": "markdown",
   "metadata": {},
   "source": [
    "## Problem Statement: Find nth Fibonacci number using fastest possible method.\n",
    "\n",
    "### Description: It is very easy to find n th Fibonacci number for smaller number. However, it is difficult to  find 1000th Fibonacci number. Your task to give a solution to find 1000th Fibonacci number or more."
   ]
  },
  {
   "cell_type": "code",
   "execution_count": 1,
   "metadata": {},
   "outputs": [
    {
     "name": "stdout",
     "output_type": "stream",
     "text": [
      "43466557686937456435688527675040625802564660517371780402481729089536555417949051890403879840079255169295922593080322634775209689623239873322471161642996440906533187938298969649928516003704476137795166849228875\n",
      "--- 0.0009796619415283203 seconds required to find the 1000th Fibonacci Number---\n"
     ]
    }
   ],
   "source": [
    "# First taking in time so as to see how long does it take for the execution\n",
    "import time\n",
    "start_time = time.time()\n",
    "\n",
    "\n",
    "# Finding the Nth Fibonacci Number\n",
    "# Using the Fast Doubling Method \n",
    "MOD = 1000000000000000000000000000000000000000000000000000000000000000000000000000000000000000000000000000000000000000000000000000000000000000000000000000000000000000000000000000000000000000000000000000000000000000000000000000000000000000000000000000000000000000000\n",
    "\n",
    "# First defining a function to calculate the Nth Fibonacci Number  \n",
    "\n",
    "def Fib(n, res):  \n",
    "      \n",
    "    # Base Condition  \n",
    "    if (n == 0):  \n",
    "        res[0] = 0\n",
    "        res[1] = 1\n",
    "        return\n",
    "          \n",
    "    Fib((n // 2), res)  \n",
    "  \n",
    "    # Here a = F(n)  \n",
    "    a = res[0]  \n",
    "  \n",
    "    # Here b = F(n+1)  \n",
    "    b = res[1]  \n",
    "  \n",
    "    c = 2 * b - a  \n",
    "  \n",
    "    if (c < 0):  \n",
    "        c += MOD  \n",
    "  \n",
    "    # As F(2n) = F(n)[2F(n+1) – F(n)]  \n",
    "    # Here c = F(2n)  \n",
    "    c = (a * c) % MOD  \n",
    "  \n",
    "    # As F(2n + 1) = F(n)^2 + F(n+1)^2  \n",
    "    # Here d = F(2n + 1)  \n",
    "    d = (a * a + b * b) % MOD  \n",
    "  \n",
    "    # Check if N is odd  \n",
    "    # or even  \n",
    "    if (n % 2 == 0):  \n",
    "        res[0] = c  \n",
    "        res[1] = d  \n",
    "    else :  \n",
    "        res[0] = d  \n",
    "        res[1] = c + d  \n",
    "      \n",
    "# The real driving code \n",
    "N =1000\n",
    "\n",
    "res = [0] * 2\n",
    "  \n",
    "Fib(N, res)  \n",
    "  \n",
    "print(res[0])  \n",
    "\n",
    "#printing the time required\n",
    "print(\"--- %s seconds required to find the 1000th Fibonacci Number---\" % (time.time() - start_time))\n"
   ]
  },
  {
   "cell_type": "markdown",
   "metadata": {},
   "source": [
    "## Time Complexity\n",
    "### O(log n)"
   ]
  },
  {
   "cell_type": "markdown",
   "metadata": {},
   "source": [
    "http://www.fullbooks.com/The-first-1001-Fibonacci-Numbers.html\n",
    "\n",
    "\n",
    "The 1001 Fibonacci Numbers\n"
   ]
  },
  {
   "cell_type": "markdown",
   "metadata": {},
   "source": [
    "### The above Code took  0.0015401840209960938 seconds to execute\n",
    "### Let's run the conventional Code ( using golden Ratio)"
   ]
  },
  {
   "cell_type": "code",
   "execution_count": 55,
   "metadata": {},
   "outputs": [
    {
     "name": "stdout",
     "output_type": "stream",
     "text": [
      "100 th Fibonacci Number = 354223549619245350912\n",
      "--- 0.0009951591491699219 seconds required to find the 1000th Fibonacci Number---\n"
     ]
    }
   ],
   "source": [
    "import time\n",
    "start_time = time.time()\n",
    "  \n",
    "# Approximate value of golden ratio \n",
    "PHI = 1.6180339\n",
    "  \n",
    "# Fibonacci numbers upto n = 5 \n",
    "f = [ 0, 1, 1, 2, 3, 5 ] \n",
    "  \n",
    "# Function to find nth \n",
    "# Fibonacci number \n",
    "def fib ( n ): \n",
    "  \n",
    "    # Fibonacci numbers for n < 6 \n",
    "    if n < 6: \n",
    "        return f[n] \n",
    "  \n",
    "    # Else start counting from \n",
    "    # 5th term \n",
    "    t = 5\n",
    "    fn = 5\n",
    "      \n",
    "    while t < n: \n",
    "        fn = round(fn * PHI) \n",
    "        t+=1\n",
    "      \n",
    "    return fn \n",
    "  \n",
    "# driver code \n",
    "n = 100\n",
    "print(n, \"th Fibonacci Number =\", fib(n)) \n",
    "\n",
    "#printing the time required\n",
    "print(\"--- %s seconds required to find the 1000th Fibonacci Number---\" % (time.time() - start_time))\n"
   ]
  },
  {
   "cell_type": "markdown",
   "metadata": {},
   "source": [
    "## Time Complexity is \n",
    "### O(n)\n",
    "\n",
    "## Also it didn't return a correct value"
   ]
  },
  {
   "cell_type": "markdown",
   "metadata": {},
   "source": [
    "# Here we can see that the difference in time is really high\n",
    "\n",
    "### Time for first Program: 0.0015401840209960938 seconds to execute\n",
    "### Time for Second Program: 0.003979206085205078 seconds to execute"
   ]
  },
  {
   "cell_type": "markdown",
   "metadata": {},
   "source": [
    "## Thus we can conclude that program 1 ( with time complexity of O(logn) is faster than the second program  ( with time complexity of O(n))"
   ]
  },
  {
   "cell_type": "code",
   "execution_count": null,
   "metadata": {},
   "outputs": [],
   "source": []
  },
  {
   "cell_type": "code",
   "execution_count": null,
   "metadata": {},
   "outputs": [],
   "source": []
  },
  {
   "cell_type": "code",
   "execution_count": null,
   "metadata": {},
   "outputs": [],
   "source": []
  }
 ],
 "metadata": {
  "kernelspec": {
   "display_name": "Python 3",
   "language": "python",
   "name": "python3"
  },
  "language_info": {
   "codemirror_mode": {
    "name": "ipython",
    "version": 3
   },
   "file_extension": ".py",
   "mimetype": "text/x-python",
   "name": "python",
   "nbconvert_exporter": "python",
   "pygments_lexer": "ipython3",
   "version": "3.7.6"
  }
 },
 "nbformat": 4,
 "nbformat_minor": 4
}
